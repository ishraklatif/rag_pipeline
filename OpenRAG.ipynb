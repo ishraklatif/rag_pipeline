{
 "cells": [
  {
   "cell_type": "code",
   "execution_count": 106,
   "id": "5f271518-ce81-4909-8af5-268d9bbea946",
   "metadata": {},
   "outputs": [],
   "source": [
    "from langchain.document_loaders import WebBaseLoader\n",
    "from langchain.text_splitter import RecursiveCharacterTextSplitter\n",
    "from langchain.embeddings import HuggingFaceInferenceAPIEmbeddings \n",
    "from langchain.vectorstores import Chroma\n",
    "\n",
    "from langchain.llms import HuggingFaceHub\n",
    "from langchain.llms import HuggingFaceEndpoint\n",
    "from langchain.chains import RetrievalQA"
   ]
  },
  {
   "cell_type": "code",
   "execution_count": 107,
   "id": "4a33b38d-32a1-4577-a2b4-96a8021ef349",
   "metadata": {},
   "outputs": [
    {
     "name": "stdout",
     "output_type": "stream",
     "text": [
      " ········\n"
     ]
    }
   ],
   "source": [
    "import os\n",
    "from getpass import getpass\n",
    "\n",
    "HF_token = getpass()"
   ]
  },
  {
   "cell_type": "code",
   "execution_count": 108,
   "id": "63a5a136-6e7b-42c7-aa5d-193f95563a01",
   "metadata": {},
   "outputs": [],
   "source": [
    "os.environ['HUGGINGFACEHUB_API_TOKEN'] = HF_token"
   ]
  },
  {
   "cell_type": "code",
   "execution_count": 109,
   "id": "b2826dcd-9912-42af-b4e6-a485125440fe",
   "metadata": {},
   "outputs": [],
   "source": [
    "URL = \"https://ishraklatif.github.io\""
   ]
  },
  {
   "cell_type": "code",
   "execution_count": 110,
   "id": "eee53c79-f9b1-49bf-aca7-925b2e10125f",
   "metadata": {},
   "outputs": [],
   "source": [
    "data = WebBaseLoader(URL)"
   ]
  },
  {
   "cell_type": "code",
   "execution_count": 111,
   "id": "0c332198-33ef-47ac-81c0-1d7378ca9282",
   "metadata": {},
   "outputs": [],
   "source": [
    "content = data.load()"
   ]
  },
  {
   "cell_type": "code",
   "execution_count": 121,
   "id": "0b8f2f2e-50ab-4fe7-b0ad-ad340005103d",
   "metadata": {},
   "outputs": [
    {
     "name": "stdout",
     "output_type": "stream",
     "text": [
      "[Document(page_content=\"\\n\\n\\n\\nIshrak Latif - Portfolio\\n\\n\\n\\n\\n\\n\\n\\n\\n\\n\\nHi, I'm Ishrak\\nA software engineer based in Dhaka, Bangladesh - specializing in training deep learning models currently working at Dhaka National Medical Institute Hospital.\\n\\nContinue\\n\\n\\n\\n\\nPortfolio\\n\\n\\n\\n\\nProjects\\nResume\\n\\n\\nGitHub\\nLinkedIn\\n\\n\\n\\n\\n\\n\\n\\nPharmacy Management\\nDNMIH\\nAn ecommerce platform for managing a pharmacy in Dhaka National Medical Institute Hospital, developed using Odoo Studio and deployed on AWS lightsail. The database runs on postgres and required old data migration before live deployment.\\n\\n\\n\\nLive Product \\n\\n\\n\\n\\n\\n\\ndata analytics & visualization\\n\\n\\nThis project serves as a reference to different use of statistical methods used for data analysis on sports data from Bundesliga, German 1st division football league. T-test and Mann Whitney U-Test was used for analysis.\\n\\t\\t\\t\\t\\t\\t\\t\\t\\tUtilize Matplotlib's pyplot to create histograms, bar charts, scatterplots to viusalize aggregate results.\\n\\nGit Repo\\n\\n\\n\\n\\nGuess the Number\\n\\n\\nA Neural Network project that can detect handwritten numbers. The dataset was split with a 6:1 ratio for train and test data. Uses adam optimizer for stochastic gradient descent and uses sparse categorical crossentropy as cost function\\n\\nGit Repo\\n\\n\\n\\n\\nai survellance\\n\\n\\nAn integrated design project in college final year. The project is a platform in Django framework to stream video surveillance from recording devices, capable of detecting humans and setting off alarms in case of trespassing. Image preprocessing is done using OpenCV and trained with a OpenCV deep neural network module. The dataset was split with a 60/40 ratio for train and test data. Graded A+ by HOD Brigadier General Razzak and forwarded to military R&D for further research\\n\\nGit Repo\\n\\n\\n\\n\\n\\n\\n\\n\\n\\nStrengths\\nLeadership. Adaptability. \\n\\t\\t\\t\\t\\t\\t\\t\\tWork Ethic.Communication. Quick Learner.  Sharp Shooter.\\n\\n\\nWeaknesses\\nDriving. Public Speaking.  Singing.\\n\\n\\nInterests\\n   Saltwater aquarium.  Dogs. 8 Ball Pool \\n\\t\\t\\t\\t\\t\\t\\t\\t\\tSwimming. \\n\\t\\t\\t\\t\\t\\t\\t\\t\\tGun range shooting  \\n\\t\\t\\t\\t\\t\\t\\t\\t\\t Efron Reyes \\n\\n\\n\\n\\n\\nFood\\nShake Shack.\\n5 Guys\\nAl Baik\\n\\n\\nCurrent Jam\\n\\nSurah Baqarah\\n\\n\\nTV/Movies\\nMindhunter. Dallas Buyers Club. Narcos. Breaking Bad. Ottoman. Exodus\\n\\n\\nEmail\\nishrak.latif96@gmail.com\\n\\n\\nSocial\\n\\nLinkedIn\\nGitHub\\n\\n\\n\\n\\n\\n\\n© IL Design: HTML5 UP\\n\\n\\n\\n\\n\\n\\n\\n\\n\\n\\n\\n\", metadata={'source': 'https://ishraklatif.github.io', 'title': 'Ishrak Latif - Portfolio', 'language': 'No language found.'})]\n"
     ]
    }
   ],
   "source": [
    "print(content)"
   ]
  },
  {
   "cell_type": "code",
   "execution_count": 122,
   "id": "cffd0cbf-3faf-47c9-be3f-89040ce001d1",
   "metadata": {},
   "outputs": [],
   "source": [
    "text_splitter = RecursiveCharacterTextSplitter(chunk_size = 256,chunk_overlap = 0)"
   ]
  },
  {
   "cell_type": "code",
   "execution_count": 123,
   "id": "01bc66b1-6c36-4d69-aabf-7fc4989acfc0",
   "metadata": {},
   "outputs": [],
   "source": [
    "chunking = text_splitter.split_documents(content)"
   ]
  },
  {
   "cell_type": "code",
   "execution_count": 124,
   "id": "e27272d8-3ba9-4b5b-9d13-4a811780d05a",
   "metadata": {},
   "outputs": [
    {
     "data": {
      "text/plain": [
       "15"
      ]
     },
     "execution_count": 124,
     "metadata": {},
     "output_type": "execute_result"
    }
   ],
   "source": [
    "len(chunking)"
   ]
  },
  {
   "cell_type": "code",
   "execution_count": 125,
   "id": "b775c921-e2bd-4644-92ce-be86627787f5",
   "metadata": {},
   "outputs": [
    {
     "data": {
      "text/plain": [
       "Document(page_content='An ecommerce platform for managing a pharmacy in Dhaka National Medical Institute Hospital, developed using Odoo Studio and deployed on AWS lightsail. The database runs on postgres and required old data migration before live deployment.', metadata={'source': 'https://ishraklatif.github.io', 'title': 'Ishrak Latif - Portfolio', 'language': 'No language found.'})"
      ]
     },
     "execution_count": 125,
     "metadata": {},
     "output_type": "execute_result"
    }
   ],
   "source": [
    "chunking[3]"
   ]
  },
  {
   "cell_type": "code",
   "execution_count": 126,
   "id": "d3ae5a7f-e8dd-40f9-9a37-ea4578a528aa",
   "metadata": {},
   "outputs": [
    {
     "data": {
      "text/plain": [
       "Document(page_content='Pharmacy Management\\nDNMIH', metadata={'source': 'https://ishraklatif.github.io', 'title': 'Ishrak Latif - Portfolio', 'language': 'No language found.'})"
      ]
     },
     "execution_count": 126,
     "metadata": {},
     "output_type": "execute_result"
    }
   ],
   "source": [
    "chunking[2]"
   ]
  },
  {
   "cell_type": "code",
   "execution_count": 127,
   "id": "d9e237b9-8a94-4f57-b17b-80ff79cc6c2b",
   "metadata": {},
   "outputs": [],
   "source": [
    "embeddings = HuggingFaceInferenceAPIEmbeddings(\n",
    "    api_key = HF_token,model_name = \"BAAI/bge-base-en-v1.5\"\n",
    ")"
   ]
  },
  {
   "cell_type": "code",
   "execution_count": 98,
   "id": "6be368f4-8e84-45ff-88ff-e1af61d6f4a3",
   "metadata": {},
   "outputs": [],
   "source": [
    "retriever = vectorstore.as_retriever(search_type=\"mmr\",search_kwargs={\"k\":1})"
   ]
  },
  {
   "cell_type": "code",
   "execution_count": 99,
   "id": "6ba7f992-2dfc-4469-8e26-00e8e5538c7c",
   "metadata": {},
   "outputs": [],
   "source": [
    "query = \"Who is Ishrak Latif?\""
   ]
  },
  {
   "cell_type": "code",
   "execution_count": 100,
   "id": "a34f9eb0-cbd0-43b1-a85e-8f7492788b78",
   "metadata": {},
   "outputs": [],
   "source": [
    "docs_rel = retriever.get_relevant_documents(query)"
   ]
  },
  {
   "cell_type": "code",
   "execution_count": 101,
   "id": "d2f9f70f-9b54-4173-bd40-cdc6121588e0",
   "metadata": {},
   "outputs": [
    {
     "data": {
      "text/plain": [
       "[Document(page_content=\"Ishrak Latif - Portfolio\\n\\n\\n\\n\\n\\n\\n\\n\\n\\n\\nHi, I'm Ishrak\\nA software engineer based in Dhaka, Bangladesh - specializing in training deep learning models currently working at Dhaka National Medical Institute Hospital.\\n\\nContinue\\n\\n\\n\\n\\nPortfolio\\n\\n\\n\\n\\nProjects\\nResume\", metadata={'language': 'No language found.', 'source': 'https://ishraklatif.github.io', 'title': 'Ishrak Latif - Portfolio'})]"
      ]
     },
     "execution_count": 101,
     "metadata": {},
     "output_type": "execute_result"
    }
   ],
   "source": [
    "docs_rel"
   ]
  },
  {
   "cell_type": "code",
   "execution_count": 102,
   "id": "157e7208-8b93-4bf9-bab5-3f68923ff322",
   "metadata": {},
   "outputs": [],
   "source": [
    "prompt = \"\"\"\n",
    "<|sysem|>\n",
    "You are an AI Bot. Be truthful\n",
    "</s>\n",
    "<|user|>\n",
    "{query}\n",
    "</s>\n",
    "<|assistant|>\n",
    "\"\"\""
   ]
  },
  {
   "cell_type": "code",
   "execution_count": 103,
   "id": "9cf2bc2c-7b8f-4e9e-be7e-adaff36ccb4b",
   "metadata": {},
   "outputs": [],
   "source": [
    "qa = RetrievalQA.from_chain_type(llm=model,retriever=retriever,chain_type=\"stuff\")"
   ]
  },
  {
   "cell_type": "code",
   "execution_count": null,
   "id": "efadcc45-235e-40c3-a770-7ef00416d3ae",
   "metadata": {},
   "outputs": [],
   "source": [
    "print(response)"
   ]
  }
 ],
 "metadata": {
  "kernelspec": {
   "display_name": "Python 3 (ipykernel)",
   "language": "python",
   "name": "python3"
  },
  "language_info": {
   "codemirror_mode": {
    "name": "ipython",
    "version": 3
   },
   "file_extension": ".py",
   "mimetype": "text/x-python",
   "name": "python",
   "nbconvert_exporter": "python",
   "pygments_lexer": "ipython3",
   "version": "3.11.5"
  }
 },
 "nbformat": 4,
 "nbformat_minor": 5
}
